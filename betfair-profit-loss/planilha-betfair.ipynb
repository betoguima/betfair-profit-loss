{
 "cells": [
  {
   "cell_type": "code",
   "execution_count": 1,
   "metadata": {
    "collapsed": true
   },
   "outputs": [],
   "source": [
    "#Importing libraries\n",
    "import pandas as pd\n",
    "import numpy as np\n",
    "import matplotlib.pyplot as plt\n",
    "import seaborn as sns"
   ]
  },
  {
   "cell_type": "code",
   "execution_count": 2,
   "metadata": {
    "collapsed": true
   },
   "outputs": [],
   "source": [
    "#Defining the path of the file\n",
    "path = 'C:/Users/Humberto/Google Drive/Clube da aposta/Analise de dados/Gestor de banca/'"
   ]
  },
  {
   "cell_type": "code",
   "execution_count": 4,
   "metadata": {
    "collapsed": true
   },
   "outputs": [],
   "source": [
    "def betfair_results(spreadsheet):\n",
    "    dataframe = pd.read_excel(spreadsheet)\n",
    "\n",
    "    #Tyding the spreadsheet\n",
    "    dataframe.rename(columns={'Persistência    ': 'Persistência', 'Probabilidades req. ': 'Probabilidades req.' }, inplace=True)\n",
    "    dataframe.dropna(how='all', axis=1, inplace=True)\n",
    "    dataframe['Aposta colocada'] = pd.to_datetime(dataframe['Aposta colocada'])\n",
    "    dataframe.set_index('ID da Aposta', inplace=True)\n",
    "    dataframe.sort_index(inplace=True)\n",
    "    #dataframe.sort_values('ID da Aposta', axis=0, inplace=True)\n",
    "\n",
    "    #Setting the formats for floats\n",
    "    dataframe['Probabilidades req.'] = dataframe['Probabilidades req.'].apply(lambda x: float(x.replace(',','.')))\n",
    "    dataframe['Média de probabilidades correspondidas'] = dataframe['Média de probabilidades correspondidas'].apply(lambda x: float(x.replace(',','.')))\n",
    "    dataframe['Lucro/Prejuízo(BRL)'] = dataframe['Lucro/Prejuízo(BRL)'].apply(lambda x: float(x.replace(',','.').replace(')','').replace('(','-')))\n",
    "    dataframe['Parada(BRL)'] = dataframe['Parada(BRL)'].apply(lambda x: float(x.replace(',','.')))\n",
    "\n",
    "    #Creating some features\n",
    "\n",
    "    def get_market(text):\n",
    "        '''Just a string function to return the market'''\n",
    "\n",
    "        market = text.split(' / ')[-1]\n",
    "\n",
    "        return market\n",
    "\n",
    "    def get_match(text):\n",
    "        '''Just a string function to return the match'''\n",
    "\n",
    "        match = text.split(' / ')[0] + ' ' + text.split(' / ')[1]\n",
    "\n",
    "        return match\n",
    "\n",
    "    dataframe['Tipo de Mercado'] = dataframe['Mercado'].apply(get_market)\n",
    "    dataframe['Partida'] = dataframe['Mercado'].apply(get_match)\n",
    "\n",
    "    #Start looping\n",
    "    matches_list = dataframe['Partida'].unique()\n",
    "    for match in matches_list:\n",
    "        match_df = dataframe[dataframe['Partida'] == match].copy()\n",
    "\n",
    "        #Now filtering by market\n",
    "        markets = match_df['Tipo de Mercado'].unique()\n",
    "        for market in markets:\n",
    "\n",
    "            if market == 'Probabilidades':\n",
    "                print('Creating Betfair results for {}-{}'.format(match, market), end='\\r')\n",
    "\n",
    "                #Infos\n",
    "                market_df = match_df[match_df['Tipo de Mercado'] == market]\n",
    "                home_team = market_df.loc[market_df.index[0],'Mercado'].split(' / ')[1].split(' x ')[0]\n",
    "                away_team = market_df.loc[market_df.index[0],'Mercado'].split(' / ')[1].split(' x ')[1]\n",
    "                home_pl = float(0)\n",
    "                draw_pl = float(0)\n",
    "                away_pl = float(0)\n",
    "\n",
    "                #adding columns\n",
    "                market_df[home_team] = home_pl\n",
    "                market_df['Draw'] = draw_pl\n",
    "                market_df[away_team] = away_pl\n",
    "\n",
    "                for key, row in market_df.iterrows():\n",
    "\n",
    "                    selection = row['Selecção']\n",
    "                    stake = row['Parada(BRL)']\n",
    "                    odds = row['Média de probabilidades correspondidas']\n",
    "                    back_or_lay = row['Tipo de licitação']\n",
    "\n",
    "                    #If the bet was corresponded\n",
    "                    if row['Persistência'] == 'C':\n",
    "\n",
    "                        #If it's a back\n",
    "                        if back_or_lay == 'Apostar a favor':\n",
    "\n",
    "                            #Now the selections\n",
    "                            if  selection == home_team:\n",
    "                                home_pl += stake * (odds - 1)\n",
    "                                draw_pl -= stake\n",
    "                                away_pl -= stake\n",
    "\n",
    "                            if  selection == 'Empate':\n",
    "                                home_pl -= stake\n",
    "                                draw_pl += stake * (odds - 1)\n",
    "                                away_pl -= stake\n",
    "\n",
    "                            if  selection == away_team:\n",
    "                                home_pl -= stake\n",
    "                                draw_pl -= stake\n",
    "                                away_pl += stake * (odds - 1)\n",
    "\n",
    "                        #If it's a lay\n",
    "                        if back_or_lay == 'Apostar contra':\n",
    "\n",
    "                            #Now the selections\n",
    "                            if  selection == home_team:\n",
    "                                home_pl -= stake * (odds - 1)\n",
    "                                draw_pl += stake\n",
    "                                away_pl += stake\n",
    "\n",
    "                            if  selection == 'Empate':\n",
    "                                home_pl += stake\n",
    "                                draw_pl -= stake * (odds - 1)\n",
    "                                away_pl += stake\n",
    "\n",
    "                            if  selection == away_team:\n",
    "                                home_pl += stake\n",
    "                                draw_pl += stake\n",
    "                                away_pl -= stake * (odds - 1)\n",
    "\n",
    "                        #Adding the profit and loss\n",
    "                        market_df.loc[key, home_team] = home_pl\n",
    "                        market_df.loc[key, \"Draw\"] = draw_pl\n",
    "                        market_df.loc[key, away_team] = away_pl\n",
    "\n",
    "                        market_df = market_df.round(2)\n",
    "                        \n",
    "\n",
    "                market_df = market_df.reset_index().set_index('Aposta colocada', drop=True)\n",
    "                plt.figure(figsize=(10,5))\n",
    "                plt.plot(market_df[home_team], color='Blue', label=home_team)\n",
    "                plt.plot(market_df['Draw'], color='gray', label='Draw')\n",
    "                plt.plot(market_df[away_team], color='Red', label=away_team)\n",
    "                plt.axhline(0, color='lightgray', linestyle='dashed')\n",
    "                \n",
    "                plt.xticks(rotation=45)\n",
    "                plt.legend()\n",
    "\n",
    "                #Exporting Excel and Figure\n",
    "                market_df.to_excel(path + '{} - {}.xlsx'.format(match, market), encoding='utf-8')\n",
    "                plt.savefig(path + '{} - {}.png'.format(match, market))"
   ]
  },
  {
   "cell_type": "code",
   "execution_count": null,
   "metadata": {
    "scrolled": true
   },
   "outputs": [
    {
     "name": "stdout",
     "output_type": "stream",
     "text": [
      "Creating Betfair results for Fixtures 7 Mar Rennes x Arsenal-Probabilidadesbabilidades\r"
     ]
    },
    {
     "name": "stderr",
     "output_type": "stream",
     "text": [
      "C:\\Users\\Humberto\\Anaconda3\\lib\\site-packages\\ipykernel\\__main__.py:58: SettingWithCopyWarning: \n",
      "A value is trying to be set on a copy of a slice from a DataFrame.\n",
      "Try using .loc[row_indexer,col_indexer] = value instead\n",
      "\n",
      "See the caveats in the documentation: http://pandas.pydata.org/pandas-docs/stable/indexing.html#indexing-view-versus-copy\n",
      "C:\\Users\\Humberto\\Anaconda3\\lib\\site-packages\\ipykernel\\__main__.py:59: SettingWithCopyWarning: \n",
      "A value is trying to be set on a copy of a slice from a DataFrame.\n",
      "Try using .loc[row_indexer,col_indexer] = value instead\n",
      "\n",
      "See the caveats in the documentation: http://pandas.pydata.org/pandas-docs/stable/indexing.html#indexing-view-versus-copy\n",
      "C:\\Users\\Humberto\\Anaconda3\\lib\\site-packages\\ipykernel\\__main__.py:60: SettingWithCopyWarning: \n",
      "A value is trying to be set on a copy of a slice from a DataFrame.\n",
      "Try using .loc[row_indexer,col_indexer] = value instead\n",
      "\n",
      "See the caveats in the documentation: http://pandas.pydata.org/pandas-docs/stable/indexing.html#indexing-view-versus-copy\n",
      "C:\\Users\\Humberto\\Anaconda3\\lib\\site-packages\\pandas\\core\\indexing.py:517: SettingWithCopyWarning: \n",
      "A value is trying to be set on a copy of a slice from a DataFrame.\n",
      "Try using .loc[row_indexer,col_indexer] = value instead\n",
      "\n",
      "See the caveats in the documentation: http://pandas.pydata.org/pandas-docs/stable/indexing.html#indexing-view-versus-copy\n",
      "  self.obj[item] = s\n"
     ]
    },
    {
     "name": "stdout",
     "output_type": "stream",
     "text": [
      "Creating Betfair results for Fixtures 13 Mar Grêmio x Libertad-Probabilidadesrankfurt-Probabilidades\r"
     ]
    }
   ],
   "source": [
    "betfair_results(path + 'BetHistory.xls')"
   ]
  },
  {
   "cell_type": "code",
   "execution_count": 22,
   "metadata": {},
   "outputs": [
    {
     "data": {
      "text/plain": [
       "Index(['Tipo de Mercado', 'Mercado', 'Selecção', 'Tipo de licitação',\n",
       "       'Aposta colocada', 'Unnamed: 6', 'Persistência    ',\n",
       "       'Probabilidades req. ', 'Parada(BRL)', 'Responsabilidade(BRL)',\n",
       "       'Média de probabilidades correspondidas', 'Lucro/Prejuízo(BRL)'],\n",
       "      dtype='object')"
      ]
     },
     "execution_count": 22,
     "metadata": {},
     "output_type": "execute_result"
    }
   ],
   "source": [
    "df.columns"
   ]
  }
 ],
 "metadata": {
  "kernelspec": {
   "display_name": "Python [conda root]",
   "language": "python",
   "name": "conda-root-py"
  },
  "language_info": {
   "codemirror_mode": {
    "name": "ipython",
    "version": 3
   },
   "file_extension": ".py",
   "mimetype": "text/x-python",
   "name": "python",
   "nbconvert_exporter": "python",
   "pygments_lexer": "ipython3",
   "version": "3.6.6"
  }
 },
 "nbformat": 4,
 "nbformat_minor": 2
}
